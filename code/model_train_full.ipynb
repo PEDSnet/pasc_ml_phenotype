{
 "cells": [
  {
   "cell_type": "code",
   "execution_count": null,
   "id": "9ecbaafc",
   "metadata": {},
   "outputs": [],
   "source": [
    "import os\n",
    "os.environ[\"OMP_NUM_THREADS\"] = \"1\" # export OMP_NUM_THREADS=1\n",
    "os.environ[\"OPENBLAS_NUM_THREADS\"] = \"1\" # export OPENBLAS_NUM_THREADS=1\n",
    "os.environ[\"MKL_NUM_THREADS\"] = \"1\" # export MKL_NUM_THREADS=1\n",
    "os.environ[\"VECLIB_MAXIMUM_THREADS\"] = \"1\" # export VECLIB_MAXIMUM_THREADS=1\n",
    "os.environ[\"NUMEXPR_NUM_THREADS\"] = \"1\" # export NUMEXPR_NUM_THREADS=1\n",
    "\n",
    "import csv\n",
    "from IPython.display import display\n",
    "import sys\n",
    "import time\n",
    "import pandas as pd\n",
    "import numpy as np\n",
    "import tqdm\n",
    "import shap\n",
    "\n",
    "import matplotlib.pyplot as plt\n",
    "import sklearn\n",
    "from sklearn.pipeline import Pipeline, make_pipeline\n",
    "from sklearn.model_selection import GridSearchCV, PredefinedSplit, cross_validate, train_test_split, StratifiedKFold\n",
    "from sklearn.preprocessing import StandardScaler\n",
    "from sklearn.compose import ColumnTransformer, make_column_selector\n",
    "from sklearn.metrics import PrecisionRecallDisplay, RocCurveDisplay\n",
    "from sklearn.multioutput import MultiOutputClassifier\n",
    "import imblearn\n",
    "from imblearn.over_sampling import SMOTE, ADASYN\n",
    "from imblearn.over_sampling import RandomOverSampler\n",
    "from imblearn.under_sampling import RandomUnderSampler\n",
    "import xgboost as xgb\n"
   ]
  },
  {
   "cell_type": "code",
   "execution_count": null,
   "id": "074b3353",
   "metadata": {},
   "outputs": [],
   "source": [
    "%run ml_functions.py"
   ]
  },
  {
   "cell_type": "code",
   "execution_count": null,
   "id": "81832a41",
   "metadata": {},
   "outputs": [],
   "source": [
    "demo_train, demo_test=[],[]\n",
    "cond_train, cond_test=[],[]\n",
    "util_train, util_test=[],[]\n",
    "lab_cts_train, lab_cts_test=[],[]\n",
    "lab_train, lab_test=[],[]\n",
    "drug_train,drug_test=[],[]\n",
    "proc_train, proc_test=[],[]"
   ]
  },
  {
   "cell_type": "code",
   "execution_count": null,
   "id": "16066208",
   "metadata": {},
   "outputs": [],
   "source": [
    "demo_all=pd.read_csv(make_path(\"demo\",\"\",\"all\"), index_col=[0]).drop(columns=['index_visit_occurrence_id', 'birth_date', 'index_month', 'index_year', 'index_date', 'observation_type'])\n",
    "cond_all=pd.read_csv(make_path(\"cond\",\"\", \"all\"), index_col=[0]).drop(columns=['index_date', 'pasc_flag'])\n",
    "util_all=pd.read_csv(make_path(\"util\",\"\", \"all\"), index_col=[0]).drop(columns=['index_date', 'pasc_flag'])\n",
    "lab_cts_all=pd.read_csv(make_path(\"lab_cts\",\"\", \"all\"), index_col=[0]).drop(columns=['index_date', 'pasc_flag'])\n",
    "drug_all=pd.read_csv(make_path(\"drug\",\"\", \"all\"), index_col=[0]).drop(columns=['index_date', 'pasc_flag'])\n",
    "proc_all=pd.read_csv(make_path(\"proc\",\"\", \"all\"), index_col=[0]).drop(columns=['index_date', 'pasc_flag'])\n",
    "lab_all=pd.read_csv(make_path(\"lab\",\"\", \"all\"), index_col=[0]).drop(columns=['index_date', 'pasc_flag'])"
   ]
  },
  {
   "cell_type": "code",
   "execution_count": null,
   "id": "c09ff2f3",
   "metadata": {},
   "outputs": [],
   "source": [
    "feature_df_all=make_feature_df(demo_all, cond_all, drug_all, util_all, lab_all, proc_all, lab_cts_all)"
   ]
  },
  {
   "cell_type": "code",
   "execution_count": null,
   "id": "06e4bc5a",
   "metadata": {},
   "outputs": [],
   "source": [
    "X_train, y_train=feature_df_all[0], feature_df_all[1]\n",
    "y_train_multiclass=(y_train[:,0]+y_train[:,1])\n",
    "cols=X_train.columns.values\n",
    "dim=X_train.shape[1]\n",
    "ct_scale=ColumnTransformer([('scale', StandardScaler(), cols)], remainder=\"passthrough\") \n",
    "X_scaled_train=ct_scale.fit_transform(X_train)\n",
    "xgb_estimator = xgb.XGBClassifier(n_estimators=150, learning_rate=0.1, colsample_bytree=0.7, objective='multi:softprob', num_class=3, n_jobs=16)\n",
    "xgb_estimator.fit(X_scaled_train, y_train_multiclass)"
   ]
  },
  {
   "cell_type": "code",
   "execution_count": null,
   "id": "d4339aae",
   "metadata": {},
   "outputs": [],
   "source": [
    "pd.DataFrame(X_scaled_train).to_csv(\"../specs/X_scaled_all.csv\", index=False)"
   ]
  },
  {
   "cell_type": "code",
   "execution_count": null,
   "id": "470d6477",
   "metadata": {},
   "outputs": [],
   "source": [
    "lab_all.shape"
   ]
  },
  {
   "cell_type": "code",
   "execution_count": null,
   "id": "14d4ca6a",
   "metadata": {},
   "outputs": [],
   "source": [
    "pd.DataFrame(X_train.columns).to_csv(\"../specs/X_test_columns.csv\", index=False)\n",
    "pd.DataFrame(X_train.columns[:23]).to_csv(\"../specs/demo_columns.csv\", index=False)\n",
    "pd.DataFrame(cond_all.columns).to_csv(\"../specs/cond_columns.csv\", index=False)\n",
    "pd.DataFrame(util_all.columns).to_csv(\"../specs/util_columns.csv\", index=False)\n",
    "pd.DataFrame(lab_cts_all.columns).to_csv(\"../specs/lab_cts_columns.csv\", index=False)\n",
    "pd.DataFrame(drug_all.columns).to_csv(\"../specs/drug_columns.csv\", index=False)\n",
    "pd.DataFrame(lab_all.columns).to_csv(\"../specs/lab_columns.csv\", index=False)\n",
    "pd.DataFrame(proc_all.columns).to_csv(\"../specs/proc_columns.csv\", index=False)"
   ]
  },
  {
   "cell_type": "code",
   "execution_count": null,
   "id": "44943ad8",
   "metadata": {},
   "outputs": [],
   "source": [
    "xgb_estimator.save_model(\"../specs/xgb_model_all_11_12_2022.json\")"
   ]
  }
 ],
 "metadata": {
  "kernelspec": {
   "display_name": "Python 3 (ipykernel)",
   "language": "python",
   "name": "python3"
  },
  "language_info": {
   "codemirror_mode": {
    "name": "ipython",
    "version": 3
   },
   "file_extension": ".py",
   "mimetype": "text/x-python",
   "name": "python",
   "nbconvert_exporter": "python",
   "pygments_lexer": "ipython3",
   "version": "3.9.12"
  }
 },
 "nbformat": 4,
 "nbformat_minor": 5
}
