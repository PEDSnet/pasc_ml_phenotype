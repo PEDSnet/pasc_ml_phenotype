{
 "cells": [
  {
   "cell_type": "code",
   "execution_count": null,
   "id": "5e0c4f41",
   "metadata": {},
   "outputs": [],
   "source": [
    "import os\n",
    "os.environ[\"OMP_NUM_THREADS\"] = \"1\" # export OMP_NUM_THREADS=1\n",
    "os.environ[\"OPENBLAS_NUM_THREADS\"] = \"1\" # export OPENBLAS_NUM_THREADS=1\n",
    "os.environ[\"MKL_NUM_THREADS\"] = \"1\" # export MKL_NUM_THREADS=1\n",
    "os.environ[\"VECLIB_MAXIMUM_THREADS\"] = \"1\" # export VECLIB_MAXIMUM_THREADS=1\n",
    "os.environ[\"NUMEXPR_NUM_THREADS\"] = \"1\" # export NUMEXPR_NUM_THREADS=1\n",
    "\n",
    "import csv\n",
    "from IPython.display import display\n",
    "import sys\n",
    "import time\n",
    "import pandas as pd\n",
    "import numpy as np\n",
    "import tqdm\n",
    "import shap\n",
    "\n",
    "import matplotlib.pyplot as plt\n",
    "import sklearn\n",
    "from sklearn.pipeline import Pipeline, make_pipeline\n",
    "from sklearn.model_selection import GridSearchCV, PredefinedSplit, cross_validate, train_test_split, StratifiedKFold\n",
    "from sklearn.preprocessing import StandardScaler\n",
    "from sklearn.compose import ColumnTransformer, make_column_selector\n",
    "from sklearn.metrics import PrecisionRecallDisplay, RocCurveDisplay\n",
    "from sklearn.multioutput import MultiOutputClassifier\n",
    "import imblearn\n",
    "from imblearn.over_sampling import SMOTE, ADASYN\n",
    "from imblearn.over_sampling import RandomOverSampler\n",
    "from imblearn.under_sampling import RandomUnderSampler\n",
    "import xgboost as xgb\n"
   ]
  },
  {
   "cell_type": "code",
   "execution_count": null,
   "id": "15a45d22",
   "metadata": {},
   "outputs": [],
   "source": [
    "%run ml_functions.py"
   ]
  },
  {
   "cell_type": "code",
   "execution_count": null,
   "id": "a3cf37b2",
   "metadata": {},
   "outputs": [],
   "source": [
    "demo_train, demo_test=[],[]\n",
    "cond_train, cond_test=[],[]\n",
    "util_train, util_test=[],[]\n",
    "lab_cts_train, lab_cts_test=[],[]\n",
    "lab_train, lab_test=[],[]\n",
    "drug_train,drug_test=[],[]\n",
    "proc_train, proc_test=[],[]"
   ]
  },
  {
   "cell_type": "code",
   "execution_count": null,
   "id": "f75be26d",
   "metadata": {},
   "outputs": [],
   "source": [
    "for i in range(1,6):\n",
    "    demo_train.append(pd.read_csv(make_path(\"demo\",\"train\", i), index_col=[0]).drop(columns=['index_visit_occurrence_id', 'birth_date', 'index_month', 'index_year', 'index_date', 'observation_type']))\n",
    "    demo_test.append(pd.read_csv(make_path(\"demo\",\"test\", i), index_col=[0]).drop(columns=['index_visit_occurrence_id', 'birth_date', 'index_month', 'index_year', 'index_date', 'observation_type']))\n",
    "    cond_train.append(pd.read_csv(make_path(\"cond\",\"train\", i), index_col=[0]).drop(columns=['index_date', 'pasc_flag']))\n",
    "    cond_test.append(pd.read_csv(make_path(\"cond\",\"test\", i), index_col=[0]).drop(columns=['index_date', 'pasc_flag']))\n",
    "    util_train.append(pd.read_csv(make_path(\"util\",\"train\", i), index_col=[0]).drop(columns=['index_date', 'pasc_flag']))\n",
    "    util_test.append(pd.read_csv(make_path(\"util\",\"test\", i), index_col=[0]).drop(columns=['index_date', 'pasc_flag']))\n",
    "    lab_cts_train.append(pd.read_csv(make_path(\"lab_cts\",\"train\", i), index_col=[0]).drop(columns=['index_date', 'pasc_flag']))\n",
    "    lab_cts_test.append(pd.read_csv(make_path(\"lab_cts\",\"test\", i), index_col=[0]).drop(columns=['index_date', 'pasc_flag']))\n",
    "    lab_train.append(pd.read_csv(make_path(\"lab\",\"train\", i), index_col=[0]).drop(columns=['index_date', 'pasc_flag']))\n",
    "    lab_test.append(pd.read_csv(make_path(\"lab\",\"test\", i), index_col=[0]).drop(columns=['index_date', 'pasc_flag']))\n",
    "    drug_train.append(pd.read_csv(make_path(\"drug\",\"train\", i), index_col=[0]).drop(columns=['index_date', 'pasc_flag']))\n",
    "    drug_test.append(pd.read_csv(make_path(\"drug\",\"test\", i), index_col=[0]).drop(columns=['index_date', 'pasc_flag']))\n",
    "    proc_train.append(pd.read_csv(make_path(\"proc\",\"train\", i), index_col=[0]).drop(columns=['index_date', 'pasc_flag']))\n",
    "    proc_test.append(pd.read_csv(make_path(\"proc\",\"test\", i), index_col=[0]).drop(columns=['index_date', 'pasc_flag']))"
   ]
  },
  {
   "cell_type": "code",
   "execution_count": null,
   "id": "31a37440",
   "metadata": {},
   "outputs": [],
   "source": [
    "folds=[]"
   ]
  },
  {
   "cell_type": "code",
   "execution_count": null,
   "id": "262d59d6",
   "metadata": {
    "scrolled": false
   },
   "outputs": [],
   "source": [
    "for i in range(0,5):\n",
    "    train_feature_df=make_feature_df(demo_train[i], cond_train[i], drug_train[i], util_train[i], lab_train[i], proc_train[i], lab_cts_train[i])\n",
    "    test_feature_df=make_feature_df(demo_test[i], cond_test[i], drug_test[i], util_test[i], lab_test[i], proc_test[i], lab_cts_test[i])\n",
    "    folds.append([train_feature_df[0], train_feature_df[1], test_feature_df[0], test_feature_df[1]])"
   ]
  },
  {
   "cell_type": "code",
   "execution_count": null,
   "id": "0190b052",
   "metadata": {},
   "outputs": [],
   "source": [
    "results_list=[]\n",
    "results_list_lower=[]\n",
    "for X_train_temp, y_train, X_test_temp, y_test in folds:\n",
    "    X_train, X_test=drop_diff(X_train_temp, X_test_temp)\n",
    "    y_train_multiclass=(y_train[:,0]+y_train[:,1])\n",
    "    y_test_multiclass=(y_test[:,0]+y_test[:,1])\n",
    "    cols=X_train.columns.values\n",
    "    dim=X_train.shape[1]\n",
    "    ct_scale=ColumnTransformer([('scale', StandardScaler(), cols)], remainder=\"passthrough\") \n",
    "    X_scaled_train=ct_scale.fit_transform(X_train)\n",
    "    X_scaled_test=ct_scale.fit_transform(X_test)\n",
    "    xgb_estimator = xgb.XGBClassifier(n_estimators=150, learning_rate=0.1, colsample_bytree=0.7, objective='multi:softprob', num_class=3, n_jobs=16)\n",
    "    xgb_estimator.fit(X_scaled_train, y_train_multiclass)\n",
    "    results=score_xg_multiclass(xgb_estimator, X_scaled_test, y_test_multiclass, thresh=0.5)\n",
    "    results_lower=score_xg_multiclass(xgb_estimator, X_scaled_test, y_test_multiclass, thresh=0.2)\n",
    "    print(results[0])\n",
    "    results_list.append(results)"
   ]
  },
  {
   "cell_type": "code",
   "execution_count": null,
   "id": "7c0fdefa",
   "metadata": {},
   "outputs": [],
   "source": [
    "pd.DataFrame([results_list[0][0], results_list[1][0], results_list[2][0], results_list[3][0], results_list[4][0]]).to_csv(\"../results/cv_results.csv\")\n",
    "\n",
    "for i in range(5):\n",
    "    pd.DataFrame(results_list[i][1]).to_csv(\"\".join([\"../specs/y_test_\",str(i+1),\".csv\"]))\n",
    "    pd.DataFrame(results_list[i][2]).to_csv(\"\".join([\"../specs/y_prob_\",str(i+1),\".csv\"]))"
   ]
  },
  {
   "cell_type": "code",
   "execution_count": null,
   "id": "41e649c7",
   "metadata": {},
   "outputs": [],
   "source": [
    "get_scores(results_list[0][2]['y_prob_pasc_any'], results_list[0][2]['y_prob_misc'], \n",
    "           results_list[0][2]['y_prob_non_misc'], results_list[0][1]['y_test_pasc_any'], \n",
    "           results_list[0][1]['y_test_misc'], results_list[0][1]['y_test_non_misc'], 0.2)"
   ]
  },
  {
   "cell_type": "code",
   "execution_count": null,
   "id": "5eb9dfff",
   "metadata": {},
   "outputs": [],
   "source": [
    "results_lower=score_xg_multiclass(xgb_estimator, X_scaled_test, y_test_multiclass, thresh=0.2)"
   ]
  },
  {
   "cell_type": "code",
   "execution_count": null,
   "id": "f18cc06e",
   "metadata": {},
   "outputs": [],
   "source": [
    "get_scores(y_prob_pasc_any, y_prob_misc, y_prob_non_misc, y_test_pasc_any, y_test_misc, y_test_non_misc, thresh)"
   ]
  }
 ],
 "metadata": {
  "kernelspec": {
   "display_name": "Python 3 (ipykernel)",
   "language": "python",
   "name": "python3"
  },
  "language_info": {
   "codemirror_mode": {
    "name": "ipython",
    "version": 3
   },
   "file_extension": ".py",
   "mimetype": "text/x-python",
   "name": "python",
   "nbconvert_exporter": "python",
   "pygments_lexer": "ipython3",
   "version": "3.9.12"
  }
 },
 "nbformat": 4,
 "nbformat_minor": 5
}
